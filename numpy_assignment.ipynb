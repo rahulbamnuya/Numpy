{
  "nbformat": 4,
  "nbformat_minor": 0,
  "metadata": {
    "colab": {
      "provenance": []
    },
    "kernelspec": {
      "name": "python3",
      "display_name": "Python 3"
    },
    "language_info": {
      "name": "python"
    }
  },
  "cells": [
    {
      "cell_type": "code",
      "execution_count": null,
      "metadata": {
        "id": "pSyI9NmOqsH6",
        "colab": {
          "base_uri": "https://localhost:8080/"
        },
        "outputId": "8aca43ea-2985-4cae-f867-463f87a34106"
      },
      "outputs": [
        {
          "output_type": "stream",
          "name": "stdout",
          "text": [
            "data type of [0 1 2 3 4 5] is : int64\n"
          ]
        }
      ],
      "source": [
        "# 1. Create a NumPy array 'arr' of integers from 0 to 5 and print its data type.\n",
        "import numpy as np\n",
        "arr=np.array(range(6),dtype=int)\n",
        "print(f\"data type of {arr} is :\",arr.dtype)"
      ]
    },
    {
      "cell_type": "code",
      "source": [
        "# 2. Given a NumPy array 'arr', check if its data type is float64.\n",
        "arr = np.array([1.5, 2.6, 3.7])\n",
        "if arr.dtype==\"float64\":\n",
        "    print(f\" array {arr} has datatype : float64\")\n",
        "else:\n",
        "     print(f\" array {arr} has datatype not float64\")"
      ],
      "metadata": {
        "id": "RGz8HaJzt90h"
      },
      "execution_count": null,
      "outputs": []
    },
    {
      "cell_type": "code",
      "source": [
        "# 3. Create a NumPy array 'arr' with a data type of complex128 containing three complex numbers.\n",
        "import numpy as np\n",
        "arr=np.array([2,3,4],dtype=complex)\n",
        "print(f\"numpy array containing three complex :{arr}\")"
      ],
      "metadata": {
        "id": "IIMsEjxSuDP5"
      },
      "execution_count": null,
      "outputs": []
    },
    {
      "cell_type": "code",
      "source": [
        "# 4. Convert an existing NumPy array 'arr' of integers to float32 data type\n",
        "arr=np.array(range(6),dtype=int)\n",
        "print(f\"array of integer {arr}\")\n",
        "conversion=np.array(arr,dtype=float)\n",
        "print(f\"after conversion float array is :\",conversion)"
      ],
      "metadata": {
        "id": "OzpH5fTNuAeL"
      },
      "execution_count": null,
      "outputs": []
    },
    {
      "cell_type": "code",
      "source": [
        "# 5. Given a NumPy array 'arr' with float64 data type, convert it to float32 to reduce decimal precision.\n",
        "arr=np.array([1.123456789, 2.987654321, 3.456789012, 4.765432109],dtype=np.float64)\n",
        "print(f\"array of integer {arr}\")\n",
        "conversion=arr.astype(np.float32)\n",
        "print(f\"after conversion float array is :\",conversion)"
      ],
      "metadata": {
        "id": "-xQ1cDgUuIQY"
      },
      "execution_count": null,
      "outputs": []
    },
    {
      "cell_type": "code",
      "source": [
        "# 6. Write a function array_attributes that takes a NumPy array as input and returns its shape, size, and data\n",
        "# type.\n",
        "def array_info(arr):\n",
        "    print(f\" array {arr} has shape :\",arr.shape)\n",
        "    print(f\" array {arr} has size :\",arr.size)\n",
        "    print(f\"array {arr} has data type :\",arr.dtype)\n",
        "cr=input(\"enter array\")\n",
        "\n",
        "li=list(map(lambda x: int(x),cr.split(\",\")))\n",
        "arr=np.array(li)\n",
        "array_info(arr)"
      ],
      "metadata": {
        "id": "q8ZEIAneuKq7"
      },
      "execution_count": null,
      "outputs": []
    },
    {
      "cell_type": "code",
      "source": [
        "# .7 Create a function array_dimension that takes a NumPy array as input and returns its dimensionality.\n",
        "def array_info(arr):\n",
        "    print(f\" array :{arr} \")\n",
        "    print(f\"dimension :\" ,arr.ndim)\n",
        "arr=np.array([[1,2,3],[2,3,4]])\n",
        "array_info(arr)"
      ],
      "metadata": {
        "id": "Dxu2c3EnuOeq"
      },
      "execution_count": null,
      "outputs": []
    },
    {
      "cell_type": "code",
      "source": [
        "# .8 Design a function item_size_info that takes a NumPy array as input and returns the item size and the total\n",
        "# size in bytes.\n",
        "def array_dimension(arr):\n",
        "    print(f\" array :{arr} \")\n",
        "    print(f\"size :\" ,arr.size)\n",
        "    print(f\"size in byte :\" ,arr.nbytes)\n",
        "arr=np.array([[1,2,3],[2,3,4]])\n",
        "array_dimension(arr)"
      ],
      "metadata": {
        "id": "FyoZ_Q0buSCT"
      },
      "execution_count": null,
      "outputs": []
    },
    {
      "cell_type": "code",
      "source": [
        "# 9. Create a function array_strides that takes a NumPy array as input and returns the strides of the array.\n",
        "def array_strides(arr):\n",
        "    print(f\"array stride is \",arr.strides)\n",
        "arr=np.array([[1,2,3,4],[3,4,5,6],[6,7,8,9]])\n",
        "array_strides(arr)\n"
      ],
      "metadata": {
        "id": "CEhiE3pPuWD2"
      },
      "execution_count": null,
      "outputs": []
    },
    {
      "cell_type": "code",
      "source": [
        "# 10. Design a function shape_stride_relationship that takes a NumPy array as input and returns the shape\n",
        "# and strides of the array.\n",
        "def shape_stride_relationship(arr):\n",
        "    print(f\"array stride is \",arr.strides)\n",
        "    print(f\"array has shape is \",arr.shape)\n",
        "arr=np.array([[1,2,3,4],[3,4,5,6],[6,7,8,9]])\n",
        "shape_stride_relationship(arr)"
      ],
      "metadata": {
        "id": "uq4_DI8ZuW6-"
      },
      "execution_count": null,
      "outputs": []
    },
    {
      "cell_type": "code",
      "source": [
        "# 11. Create a function `create_zeros_array` that takes an integer `n` as input and returns a NumPy array of\n",
        "# zeros with `n` elements.\n",
        "def create_zeros_array(n):\n",
        "    return np.zeros(5)\n",
        "n=5\n",
        "arr=create_zeros_array(n)\n",
        "print(f\"numpy array of input is {n} :\",arr)"
      ],
      "metadata": {
        "id": "uKGt_FQ4uY3L"
      },
      "execution_count": null,
      "outputs": []
    },
    {
      "cell_type": "code",
      "source": [
        "# 12. Write a function `create_ones_matrix` that takes integers `rows` and `cols` as inputs and generates a 2D\n",
        "# NumPy array filled with ones of size `rows x cols`.\n",
        "def create_ones_matrix(m,n):\n",
        "    return np.ones((m,n),dtype=int)\n",
        "m=int(input(\"number of row :\"))\n",
        "n=int(input(\"number of column :\"))\n",
        "arr=create_ones_matrix(m,n)\n",
        "print(f\"final array of ones is :\",arr)"
      ],
      "metadata": {
        "id": "gw1sM7PXua14"
      },
      "execution_count": null,
      "outputs": []
    },
    {
      "cell_type": "code",
      "source": [
        "# 13. Write a function `generate_range_array` that takes three integers start, stop, and step as arguments and\n",
        "# creates a NumPy array with a range starting from `start`, ending at stop (exclusive), and with the specified\n",
        "# `step`.\n",
        "import numpy as np\n",
        "def generate_range_array(s,e,step):\n",
        "    return np.array(list(range(s,e,step)))\n",
        "s=int(input(\"enter starting point:\"))\n",
        "e=int(input(\"enter ending point:\"))\n",
        "s=int(input(\"enter step size :\"))\n",
        "arr=generate_range_array(s,e,s)\n",
        "print(f\"final array is : {arr}\")"
      ],
      "metadata": {
        "id": "2Wyyg-tAucxs"
      },
      "execution_count": null,
      "outputs": []
    },
    {
      "cell_type": "code",
      "source": [
        "# 14. Design a function `generate_linear_space` that takes two floats `start`, `stop`, and an integer `num` as\n",
        "# arguments and generates a NumPy array with num equally spaced values between `start` and `stop`\n",
        "# (inclusive)\n",
        "def enerate_linear_space(s,e,st):\n",
        "    return np.linspace(s,e,st)\n",
        "s=float(input(\"enter starting point int float:\"))\n",
        "e=float(input(\"enter ending point in float:\"))\n",
        "st=int(input(\"enter how may equi part :\"))\n",
        "arr=enerate_linear_space(s,e,st)\n",
        "print(f\"final array is : {arr}\")"
      ],
      "metadata": {
        "id": "kmCUDp2nuex6"
      },
      "execution_count": null,
      "outputs": []
    },
    {
      "cell_type": "code",
      "source": [
        "# 15. Create a function `create_identity_matrix` that takes an integer `n` as input and generates a square\n",
        "# identity matrix of size `n x n` using `numpy.eye`.\n",
        "def reate_identity_matrix(n):\n",
        "    return np.eye(n,dtype=int)\n",
        "st=int(input(\"enter size of indentity matrix m*n :\"))\n",
        "arr=reate_identity_matrix(st)\n",
        "print(f\"final eye  array  : {arr}\")"
      ],
      "metadata": {
        "id": "DArGNknWuggX"
      },
      "execution_count": null,
      "outputs": []
    },
    {
      "cell_type": "code",
      "source": [
        "# 16. Write a function that takes a Python list and converts it into a NumPy array.\n",
        "def list_numpy(l):\n",
        "    return np.array(l)\n",
        "l=[1,2,3,4,5]\n",
        "arr=list_numpy(l)\n",
        "print(f\"final list '{l}' \")\n",
        "print(f\"convert into array :\",arr)"
      ],
      "metadata": {
        "colab": {
          "base_uri": "https://localhost:8080/"
        },
        "id": "79NBhjKMuisZ",
        "outputId": "9a47987c-5878-4420-b54c-a6880904324f"
      },
      "execution_count": null,
      "outputs": [
        {
          "output_type": "stream",
          "name": "stdout",
          "text": [
            "final list '[1, 2, 3, 4, 5]' \n",
            "convert into array : [1 2 3 4 5]\n"
          ]
        }
      ]
    },
    {
      "cell_type": "code",
      "source": [],
      "metadata": {
        "id": "Neq1VBmOurLB"
      },
      "execution_count": null,
      "outputs": []
    },
    {
      "cell_type": "code",
      "source": [
        "# 17. Create a NumPy array and demonstrate the use of `numpy.view` to create a new array object with the\n",
        "# same data.\n",
        "l=[1,2,3,4]\n",
        "ar1=np.array(l)\n",
        "ar2=ar1.view()\n",
        "ar2[0]=7\n",
        "print(f\"original array is :\",ar1)\n",
        "print(f\"view array is :\",ar2)"
      ],
      "metadata": {
        "id": "ccEyszpoukzE"
      },
      "execution_count": null,
      "outputs": []
    },
    {
      "cell_type": "code",
      "source": [
        "# 18. Write a function that takes two NumPy arrays and concatenates them along a specified axis\n",
        "def concatenate_arrays(array1, array2, axis=0):\n",
        "    return np.concatenate((array1,array2),axis=0)\n",
        "array1 = np.array([[1, 2, 3], [4, 5, 6]])\n",
        "array2 = np.array([[7, 8, 9], [10, 11, 12]])\n",
        "arr=concatenate_arrays(array1,array2,axis=0)\n",
        "print(f\"array after concationation :\",arr)"
      ],
      "metadata": {
        "id": "m9kdDPKPunLB"
      },
      "execution_count": null,
      "outputs": []
    },
    {
      "cell_type": "code",
      "source": [
        "# 19. Create two NumPy arrays with different shapes and concatenate them horizontally using `numpy.\n",
        "\n",
        "# concatenate`.\n",
        "def concatenate_arrays(array1, array2, axis=0):\n",
        "    return np.concatenate((array1,array2),axis=1)\n",
        "array1 = np.array([[1, 2], [4, 5]])\n",
        "array2 = np.array([[7, 8, 9], [10, 11, 12]])\n",
        "arr=concatenate_arrays(array1,array2,axis=0)\n",
        "print(f\"array after concationation in horizontal :\",arr)"
      ],
      "metadata": {
        "id": "akVBPr5GupS8"
      },
      "execution_count": null,
      "outputs": []
    },
    {
      "cell_type": "code",
      "source": [
        "# 20. Write a function that vertically stacks multiple NumPy arrays given as a list.\n",
        "import numpy as np\n",
        "\n",
        "def vertically_stack_arrays(array_list):\n",
        "\n",
        "    try:\n",
        "        stacked_array = np.vstack(array_list)\n",
        "        return stacked_array\n",
        "    except ValueError as e:\n",
        "        print(f\"Error: {e}\")\n",
        "        return None\n",
        "\n",
        "# Example Usage\n",
        "array1 = np.array([[1, 2, 3]])\n",
        "array2 = np.array([[4, 5, 6]])\n",
        "array3 = np.array([[7, 8, 9]])\n",
        "\n",
        "# List of arrays to stack\n",
        "arrays_to_stack = [array1, array2, array3]\n",
        "\n",
        "# Call the function\n",
        "stacked_result = vertically_stack_arrays(arrays_to_stack)\n",
        "\n",
        "print(\"Vertically Stacked Array:\")\n",
        "print(stacked_result)\n"
      ],
      "metadata": {
        "id": "RyHiw4x_us_H"
      },
      "execution_count": null,
      "outputs": []
    },
    {
      "cell_type": "code",
      "source": [
        "# 21. Write a Python function using NumPy to create an array of integers within a specified range (inclusive)\n",
        "# with a given step size.\n",
        "def array_of_integers(ran,step):\n",
        "    rang=np.array(range(ran))\n",
        "    return rang[0::2]\n",
        "step=2\n",
        "arr=array_of_integers(12,step)\n",
        "print(f\"array of integer with step {step} :\",arr)"
      ],
      "metadata": {
        "id": "zXY_YiZWuu5E"
      },
      "execution_count": null,
      "outputs": []
    },
    {
      "cell_type": "code",
      "source": [
        "# 23. Write a Python function using NumPy to create an array of 5 logarithmically spaced values between 1 and\n",
        "# 1000 (inclusive).\n",
        "def  log_spaced(st,end,step):\n",
        "    return np.logspace(st,end,step)\n",
        "\n",
        "arr=log_spaced(0,100,5)\n",
        "print(f\"array of log_spacedd between 0 and 1000 :\")\n",
        "print(arr)"
      ],
      "metadata": {
        "id": "Ng8CIM8xuw5r"
      },
      "execution_count": null,
      "outputs": []
    },
    {
      "cell_type": "code",
      "source": [
        "# 24. Create a Pandas DataFrame using a NumPy array that contains 5 rows and 3 columns, where the values\n",
        "# are random integers between 1 and 100.\n",
        "def array(r,c,s,e):\n",
        "    return np.random.randint(1,100,(5,3))\n",
        "arr=array(1,100,5,3)\n",
        "print(f\"array is \")\n",
        "print(arr)\n",
        "import pandas as pd\n",
        "frmae_array=pd.DataFrame(arr)\n",
        "print(f\"data frame of array is :\")\n",
        "frmae_array"
      ],
      "metadata": {
        "id": "u_J4qbKFuywF"
      },
      "execution_count": null,
      "outputs": []
    },
    {
      "cell_type": "code",
      "source": [
        "# 25. Write a function that takes a Pandas DataFrame and replaces all negative values in a specific column\n",
        "# with zeros. Use NumPy operations within the Pandas DataFrame.\n",
        "\n",
        "import pandas as pd\n",
        "arr=np.random.randint(-2,10,(2,3))\n",
        "frmae_array=pd.DataFrame(arr)\n",
        "print(f\"data fram eis : \",frmae_array)\n",
        "\n",
        "\n",
        "def infult_data(arr):\n",
        "    return arr.applymap(lambda x:0 if x<0 else x)\n",
        "data=infult_data(frmae_array)\n",
        "print(f\"final dataframe :\")\n",
        "data"
      ],
      "metadata": {
        "id": "W535_xLGu0zP"
      },
      "execution_count": null,
      "outputs": []
    },
    {
      "cell_type": "code",
      "source": [
        "# 26. Access the 3rd element from the given NumPy array\n",
        "arr = np.array([10, 20, 30, 40, 50])\n",
        "print(f\" 3rd element of {arr} is :\",arr[2])"
      ],
      "metadata": {
        "id": "VgWNDmi3u5yx"
      },
      "execution_count": null,
      "outputs": []
    },
    {
      "cell_type": "code",
      "source": [
        "# 27. Retrieve the element at index (1, 2) from the 2D NumPy array.\n",
        "arr_2d = np.array([[1, 2, 3],\n",
        "                   [4, 5, 6],\n",
        "                   [7, 8, 9]])\n",
        "print(f\" for array :\",arr_2d)\n",
        "print(f\" value of index (1,2) is :\",arr_2d[1,2])"
      ],
      "metadata": {
        "id": "LOcY2GX8u60T"
      },
      "execution_count": null,
      "outputs": []
    },
    {
      "cell_type": "code",
      "source": [
        "# 28. Using boolean indexing, extract elements greater than 5 from the given NumPy array.\n",
        "arr = np.array([3, 8, 2, 10, 5, 7])\n",
        "print(f\" from array  :\",arr)\n",
        "print(f\"element greater than 5  is : \",arr[arr>5])"
      ],
      "metadata": {
        "id": "-nH_KHVCu9eg"
      },
      "execution_count": null,
      "outputs": []
    },
    {
      "cell_type": "code",
      "source": [
        "# 29. Perform basic slicing to extract elements from index 2 to 5 (inclusive) from the given NumPy array.\n",
        "arr = np.array([1, 2, 3, 4, 5, 6, 7, 8, 9])\n",
        "print(f\"slicing of array \",arr)\n",
        "print(f\"index 2 to 5 :\",arr[2:5])"
      ],
      "metadata": {
        "id": "WjL-TXbuvAsv"
      },
      "execution_count": null,
      "outputs": []
    },
    {
      "cell_type": "code",
      "source": [
        "# 30. Slice the 2D NumPy array to extract the sub-array `[[2, 3], [5, 6]]` from the given array.\n",
        "arr_2d = np.array([[1, 2, 3],\n",
        "                   [4, 5, 6],\n",
        "                   [7, 8, 9]])\n",
        "print(f\"for array :\",arr_2d)\n",
        "print(f\"sub array is :\",arr_2d[0:2,1:3])"
      ],
      "metadata": {
        "id": "kLWpN7PyvC1u"
      },
      "execution_count": null,
      "outputs": []
    },
    {
      "cell_type": "code",
      "source": [
        "# 31.Write a NumPy function to extract elements in specific order from a given 2D array based on indices\n",
        "# provided in another array.\n",
        "import numpy as np\n",
        "arr_2d = np.array([[1, 2, 3],\n",
        "                   [4, 5, 6],\n",
        "                   [7, 8, 9]])\n",
        "ind=np.array([[1,2],[2,1]])\n",
        "def extract(arr,index):\n",
        "    l=[]\n",
        "    for i in index:\n",
        "        l.append(arr[i[0]][i[1]])\n",
        "    return np.array(l)\n",
        "extract_el=extract(arr_2d,ind)\n",
        "print(f\"extract element from 2d array :\",extract_el)"
      ],
      "metadata": {
        "id": "yTHZkt-VvE3u"
      },
      "execution_count": null,
      "outputs": []
    },
    {
      "cell_type": "code",
      "source": [
        "# 32. Create a NumPy function that filters elements greater than a threshold from a given 1D array using\n",
        "# boolean indexing.\n",
        "arr = np.array([1, 2, 3, 4, 5, 6, 7, 8, 9])\n",
        "thresold=5\n",
        "def filter_val(arr,thresold):\n",
        "    return arr[arr>thresold]\n",
        "final=filter_val(arr,thresold)\n",
        "print(f\"array gretaer than thresold {thresold} :\",final)"
      ],
      "metadata": {
        "id": "RGzpwvglvGp0"
      },
      "execution_count": null,
      "outputs": []
    },
    {
      "cell_type": "code",
      "source": [
        "# 33. Develop a NumPy function that extracts specific elements from a 3D array using indices provided in three\n",
        "# separate arrays for each dimension.\n",
        "array=np.random.randint(2,7,(2,2,5))\n",
        "id1=[0,1,0]\n",
        "id2=[0,0,1]\n",
        "id3=[1,1,1]\n",
        "def extract(arr,id1,id2,id3):\n",
        "    l=[]\n",
        "    for i in range(3):\n",
        "        l.append(arr[id1[i]][id2[i]][id3[i]])\n",
        "    return l\n",
        "print(f\"3d array is \",array)\n",
        "extract=extract(array,id1,id2,id3)\n",
        "print(f\"extract ekement from 3d array :\",extract)"
      ],
      "metadata": {
        "id": "0mA4PshxvIpB"
      },
      "execution_count": null,
      "outputs": []
    },
    {
      "cell_type": "code",
      "source": [
        "# 34. Write a NumPy function that returns elements from an array where both two conditions are satisfied\n",
        "# using boolean indexing.\n",
        "arr = np.array([1, 2, 3, 4, 5, 6, 7, 8, 9])\n",
        "cond1=2\n",
        "cond2=8\n",
        "def condition_extract(arr,cond1,cond2):\n",
        "    return arr[(arr>cond1) &(arr<cond2)]\n",
        "print(f\"2 d array is :\",arr)\n",
        "final=condition_extract(arr,cond1,cond2)\n",
        "print(f\"final output element greatr than 2 and less than 8 is :\",final)"
      ],
      "metadata": {
        "id": "cP6XTkdKvLr7"
      },
      "execution_count": null,
      "outputs": []
    },
    {
      "cell_type": "code",
      "source": [
        "# 35. Create a NumPy function that extracts elements from a 2D array using row and column indices provided\n",
        "# in separate arrays.\n",
        "import numpy as np\n",
        "arr_2d = np.array([[1, 2, 3],\n",
        "                   [4, 5, 6],\n",
        "                   [7, 8, 9]])\n",
        "id1=[0,1,2]\n",
        "id2=[2,1,0]\n",
        "def extract_2d(arr_2d,id1,id2):\n",
        "    l=[]\n",
        "    for i in range(len(id1)):\n",
        "         l.append(arr_2d[id1[i]][id2[i]])\n",
        "    return np.array(l)\n",
        "print(f\"input 2d array is :\",arr_2d)\n",
        "final=extract_2d(arr_2d,id1,id2)\n",
        "print(\"final element from 2d is :\",final)"
      ],
      "metadata": {
        "id": "t0WDdvnuvM6y"
      },
      "execution_count": null,
      "outputs": []
    },
    {
      "cell_type": "code",
      "source": [
        "# 36. Given an array arr of shape (3, 3), add a scalar value of 5 to each element using NumPy broadcasting.\n",
        "arr=np.random.randint(1,5,(3,3))\n",
        "print(f\"our initial array is :\",arr)\n",
        "scalar=5\n",
        "print(f\"our final array after {scalar} additionis :\")\n",
        "print(arr+scalar)"
      ],
      "metadata": {
        "id": "iVmQHgwdvP-8"
      },
      "execution_count": null,
      "outputs": []
    },
    {
      "cell_type": "code",
      "source": [
        "# 37. Consider two arrays arr1 of shape (1, 3) and arr2 of shape (3, 4). Multiply each row of arr2 by the\n",
        "# corresponding element in arr1 using NumPy broadcasting\n",
        "ar1=np.random.randint(1,5,(1,3))\n",
        "ar2=np.random.randint(2,8,(3,4))\n",
        "print(f\"input array 1 is : \",ar1)\n",
        "print(f\"input array 2 is :\")\n",
        "print(ar2)\n",
        "ar3=ar1@ar2\n",
        "print(f\"broadcasting multipy is :\",ar3)"
      ],
      "metadata": {
        "id": "-P4ZQJagvTQT"
      },
      "execution_count": null,
      "outputs": []
    },
    {
      "cell_type": "code",
      "source": [
        "# 38. Given a 1D array arr1 of shape (1, 4) and a 2D array arr2 of shape (4, 3), add arr1 to each row of arr2 using\n",
        "# NumPy broadcasting.\n",
        "ar1=np.random.randint(1,5,(4))\n",
        "ar2=np.random.randint(2,8,(4,3))\n",
        "print(f\"input array 1-D is : \",ar1)\n",
        "print(f\"input array 2-D is :\")\n",
        "print(ar2)\n",
        "ar3=ar1@ar2\n",
        "print(f\"broadcasting multipy is :\",ar3)"
      ],
      "metadata": {
        "id": "cKZb-6nFvVtu"
      },
      "execution_count": null,
      "outputs": []
    },
    {
      "cell_type": "code",
      "source": [
        "# 39. Consider two arrays arr1 of shape (3, 1) and arr2 of shape (1, 3). Add these arrays using NumPy\n",
        "# broadcasting.\n",
        "ar1=np.random.randint(1,5,(3,1))\n",
        "ar2=np.random.randint(2,8,(1,3))\n",
        "print(f\"input array 1 is : \")\n",
        "print(ar1)\n",
        "print()\n",
        "print(f\"input array 2 is :\")\n",
        "print(ar2)\n",
        "print()\n",
        "print(f\"tranpose array 2 :\")\n",
        "print(ar2.T)\n",
        "print()\n",
        "ar3=ar1+ar2.T\n",
        "print(f\"broadcasting addition is :\")\n",
        "print(ar3)"
      ],
      "metadata": {
        "id": "HIVr-BdzvYaZ"
      },
      "execution_count": null,
      "outputs": []
    },
    {
      "cell_type": "code",
      "source": [
        "# 40. Given arrays arr1 of shape (2, 3) and arr2 of shape (2, 2), perform multiplication using NumPy\n",
        "# broadcasting. Handle the shape incompatibility.\n",
        "ar1=np.random.randint(1,5,(2,3))\n",
        "ar2=np.random.randint(2,8,(2,2))\n",
        "print(f\"input array 1 is : \")\n",
        "print(ar1)\n",
        "print()\n",
        "print(f\"input array 2 is :\")\n",
        "print(ar2)\n",
        "print()\n",
        "ar3=ar2@ar1\n",
        "print(f\"multiplication of ar1 and ar2 :\")\n",
        "print(ar3)"
      ],
      "metadata": {
        "id": "_v0KIjh1vbKv"
      },
      "execution_count": null,
      "outputs": []
    },
    {
      "cell_type": "code",
      "source": [
        "# 41. Calculate column wise mean for the given array:\n",
        "arr = np.array([[1, 2, 3], [4, 5, 6]])\n",
        "print(f\"input array 1 is : \")\n",
        "print(arr)\n",
        "print()\n",
        "ar=arr.mean(axis=0)\n",
        "print(f\"column wise mean is :\",ar)"
      ],
      "metadata": {
        "id": "EHfhe7yTvfHP"
      },
      "execution_count": null,
      "outputs": []
    },
    {
      "cell_type": "code",
      "source": [
        "# 42. Find maximum value in each row of the given array:\n",
        "arr = np.array([[1, 2, 3], [4, 5, 6]])\n",
        "print(f\"input array 1 is : \")\n",
        "print(arr)\n",
        "print()\n",
        "ar=arr.max(axis=1)\n",
        "print(f\"row wise max is :\",ar)"
      ],
      "metadata": {
        "id": "UwkwHsdxvgAi"
      },
      "execution_count": null,
      "outputs": []
    },
    {
      "cell_type": "code",
      "source": [
        "# 43. For the given array, find indices of maximum value in each column\n",
        "arr = np.array([[1, 2, 3], [4, 5, 6]])\n",
        "print(f\"input array 1 is : \")\n",
        "print(arr)\n",
        "print()\n",
        "ind=np.where(arr==arr.max())\n",
        "print(f\"maximum element index is :\",ind)"
      ],
      "metadata": {
        "id": "ffN9SVreviAM"
      },
      "execution_count": null,
      "outputs": []
    },
    {
      "cell_type": "code",
      "source": [
        "# 44. For the given array, apply custom function to calculate moving sum along rows.\n",
        "import numpy as np\n",
        "def row_sum(arr):\n",
        "    l=[]\n",
        "    for i in arr:\n",
        "        l.append(i.sum())\n",
        "\n",
        "    return np.array(l)\n",
        "arr = np.array([[1, 2, 3], [4, 5, 6]])\n",
        "print(f\"input array 1 is : \")\n",
        "print(arr)\n",
        "print()\n",
        "row=row_sum(arr)\n",
        "print(f\"row sum is :\",row.T)"
      ],
      "metadata": {
        "id": "4RpIjUVcvkiR"
      },
      "execution_count": null,
      "outputs": []
    },
    {
      "cell_type": "code",
      "source": [
        "# 45. In the given array, check if all elements in each column are even\n",
        "arr = np.array([[1, 2, 3], [4, 5, 6]])\n",
        "print(f\"input array 1 is : \")\n",
        "print(arr)\n",
        "print()\n",
        "import numpy as np\n",
        "all_even_columns = np.all(arr % 2 == 0, axis=1)\n",
        "\n",
        "print(all_even_columns)\n",
        "\n"
      ],
      "metadata": {
        "id": "qChxEciwvm8m"
      },
      "execution_count": null,
      "outputs": []
    },
    {
      "cell_type": "code",
      "source": [
        "# 46. Given a NumPy array arr, reshape it into a matrix of dimensions `m` rows and `n` columns. Return the\n",
        "# reshaped matrix.\n",
        "original_array = np.array([1, 2, 3, 4, 5, 6])\n",
        "print(f\"given array is :\",original_array)\n",
        "reshape=arr.reshape(3,2)\n",
        "print(f\"after rehape new array is :\")\n",
        "print(reshape)"
      ],
      "metadata": {
        "id": "ueqWDugvvpMV"
      },
      "execution_count": null,
      "outputs": []
    },
    {
      "cell_type": "code",
      "source": [
        "# 47. Create a function that takes a matrix as input and returns the flattened array.\n",
        "input_matrix = np.array([[1, 2, 3], [4, 5, 6]])\n",
        "print(f\"given array is :\")\n",
        "print(input_matrix)\n",
        "def flatten(arr):\n",
        "    return arr.flatten()\n",
        "fl=flatten(input_matrix)\n",
        "print(f\"after flatten new array :\")\n",
        "print(fl)"
      ],
      "metadata": {
        "id": "bxfLRgHHvsbk"
      },
      "execution_count": null,
      "outputs": []
    },
    {
      "cell_type": "code",
      "source": [
        "# 48. Write a function that concatenates two given arrays along a specified axis.\n",
        "array1 = np.array([[1, 2], [3, 4]])\n",
        "array2 = np.array([[5, 6], [7, 8]])\n",
        "print(f\"arr1 is :\")\n",
        "print(array1)\n",
        "print(f\"arr2 is :\")\n",
        "print(array2)\n",
        "concat=np.concatenate((array1,array2),axis=0)\n",
        "print(f\"array after concationation :\")\n",
        "print(concat)"
      ],
      "metadata": {
        "id": "OAH_XyWEvtSt"
      },
      "execution_count": null,
      "outputs": []
    },
    {
      "cell_type": "code",
      "source": [
        "# 49. Create a function that splits an array into multiple sub-arrays along a specified axis\n",
        "\n",
        "def split_array(array, axis, indices_or_sections):\n",
        "\n",
        "    return np.split(array, indices_or_sections, axis=axis)\n",
        "\n",
        "# Example usage\n",
        "original_array = np.array([[1, 2, 3],\n",
        "                           [4, 5, 6],\n",
        "                           [7, 8, 9]])\n",
        "\n",
        "# Splitting along axis 0 (rows)\n",
        "split_rows = split_array(original_array, axis=0, indices_or_sections=3)\n",
        "print(\"Split along axis 0 (rows):\")\n",
        "for sub_array in split_rows:\n",
        "    print(sub_array)\n",
        "\n",
        "# Splitting along axis 1 (columns)\n",
        "split_columns = split_array(original_array, axis=1, indices_or_sections=3)\n",
        "print(\"\\nSplit along axis 1 (columns):\")\n",
        "for sub_array in split_columns:\n",
        "    print(sub_array)\n"
      ],
      "metadata": {
        "id": "Pxd2CbycvwNB"
      },
      "execution_count": null,
      "outputs": []
    },
    {
      "cell_type": "code",
      "source": [
        "# 50. Write a function that inserts and then deletes elements from a given array at specified indices\n",
        "import numpy as np\n",
        "\n",
        "def modify_array(array, insert_indices, insert_values, delete_indices):\n",
        "\n",
        "    array_copy = np.copy(array)\n",
        "\n",
        "    # Sort insert_indices in descending order to avoid messing up the positions\n",
        "    for index, value in sorted(zip(insert_indices, insert_values), reverse=True):\n",
        "        array_copy = np.insert(array_copy, index, value)\n",
        "\n",
        "    # Step 2: Delete elements from the array\n",
        "    # Sort delete_indices in descending order to avoid messing up the positions\n",
        "    array_copy = np.delete(array_copy, sorted(delete_indices, reverse=True))\n",
        "\n",
        "    return array_copy\n",
        "\n",
        "# Example usage\n",
        "original_array = np.array([1, 2, 3, 4, 5])\n",
        "indices_to_insert = [2, 4]\n",
        "values_to_insert = [10, 11]\n",
        "indices_to_delete = [1, 3]\n",
        "\n",
        "modified_array = modify_array(original_array, indices_to_insert, values_to_insert, indices_to_delete)\n",
        "print(\"Modified array:\")\n",
        "print(modified_array)\n"
      ],
      "metadata": {
        "id": "GnQLRzoavzcL"
      },
      "execution_count": null,
      "outputs": []
    },
    {
      "cell_type": "code",
      "source": [
        "#0 51. Create a NumPy array `arr1` with random integers and another array `arr2` with integers from 1 to 10.\n",
        "# Perform element-wise addition between `arr1` and `arr2`.\n",
        "import numpy as np\n",
        "import random\n",
        "ar1=np.random.randn(2,3)\n",
        "ar2=np.random.randint(1,10,(2,3))\n",
        "print(\"array 1 is :\")\n",
        "print(ar1)\n",
        "print()\n",
        "print(\"array 2 is :\")\n",
        "print(ar2)\n",
        "print()\n",
        "ar3=ar1+ar2\n",
        "print(f\"element wise addition is :\")\n",
        "print(ar3)"
      ],
      "metadata": {
        "id": "X45vZYtWv5jt"
      },
      "execution_count": null,
      "outputs": []
    },
    {
      "cell_type": "code",
      "source": [
        "# 52. Generate a NumPy array `arr1` with sequential integers from 10 to 1 and another array `arr2` with integers\n",
        "# from 1 to 10. Subtract `arr2` from `arr1` element-wise.\n",
        "ar1=np.arange(10,1,-1)\n",
        "ar2=np.arange(1,10,1)\n",
        "print(\"array 1 is :\")\n",
        "print(ar1)\n",
        "print()\n",
        "print(\"array 2 is :\")\n",
        "print(ar2)\n",
        "print()\n",
        "ar3=ar2-ar1\n",
        "print(f\"element wise substarct is :\")\n",
        "print(ar3)"
      ],
      "metadata": {
        "id": "7vh4bT9gwIMD"
      },
      "execution_count": null,
      "outputs": []
    },
    {
      "cell_type": "code",
      "source": [
        "# 53. Create a NumPy array `arr1` with random integers and another array `arr2` with integers from 1 to 5.\n",
        "# Perform element-wise multiplication between `arr1` and `arr2`.\n",
        "ar1=np.random.randn(2,3)\n",
        "ar2=np.random.randint(1,5,(2,3))\n",
        "print(\"array 1 is :\")\n",
        "print(ar1)\n",
        "print()\n",
        "print(\"array 2 is :\")\n",
        "print(ar2)\n",
        "print()\n",
        "ar3=ar2*ar1\n",
        "print(f\"element wise multiplication is :\")\n",
        "print(ar3)"
      ],
      "metadata": {
        "id": "t4XLSjSOwLZ1"
      },
      "execution_count": null,
      "outputs": []
    },
    {
      "cell_type": "code",
      "source": [
        "# 54. Generate a NumPy array `arr1` with even integers from 2 to 10 and another array `arr2` with integers from 1\n",
        "# to 5. Perform element-wise division of `arr1` by `arr2`.\n",
        "l=list(range(2,10))\n",
        "arr1=np.array(l)\n",
        "ar=arr1[arr1%2==0]\n",
        "arr2=np.arange(1,5)\n",
        "print(\"array 1 is :\")\n",
        "print(ar)\n",
        "print()\n",
        "print(\"array 2 is :\")\n",
        "print(arr2)\n",
        "print()\n",
        "arr3=arr2/ar\n",
        "print(f\"element wise division is :\")\n",
        "print(arr3)"
      ],
      "metadata": {
        "id": "lwMmsN-UwNJ1"
      },
      "execution_count": null,
      "outputs": []
    },
    {
      "cell_type": "code",
      "source": [
        "# 55. Create a NumPy array `arr1` with integers from 1 to 5 and another array `arr2` with the same numbers\n",
        "# reversed. Calculate the exponentiation of `arr1` raised to the power of `arr2` element-wise.\n",
        "ar1=np.arange(1,5,1)\n",
        "ar2=np.arange(5,1,-1)\n",
        "print(\"array 1 is :\")\n",
        "print(ar1)\n",
        "print()\n",
        "print(\"array 2 is :\")\n",
        "print(ar2)\n",
        "print()\n",
        "print(f\"array 1 has power array2\")\n",
        "pow(arr1,arr2)"
      ],
      "metadata": {
        "id": "DpshhKmgwO61"
      },
      "execution_count": null,
      "outputs": []
    },
    {
      "cell_type": "code",
      "source": [
        "# 56. Write a function that counts the occurrences of a specific substring within a NumPy array of strings\n",
        "arr = np.array(['hello', 'world', 'hello', 'numpy', 'hello'])\n",
        "fre=len(arr[arr==\"hello\"])\n",
        "word=\"hello\"\n",
        "print(\"array 1 is :\")\n",
        "print(arr)\n",
        "print(f\"occurence of '{word}' in array is :\",fre)\n"
      ],
      "metadata": {
        "id": "nrW3BBG8wRA4"
      },
      "execution_count": null,
      "outputs": []
    },
    {
      "cell_type": "code",
      "source": [
        "# 57. Write a function that extracts uppercase characters from a NumPy array of strings.\n",
        "arr = np.array(['Hello', 'World', 'OpenAI', 'GPT'])\n",
        "l=[]\n",
        "for i in arr:\n",
        "    for j in i:\n",
        "        if j.isupper():\n",
        "            l.append(j)\n",
        "print(\"array 1 is :\")\n",
        "print(arr)\n",
        "print(\"upper case cahracter is :\",l)"
      ],
      "metadata": {
        "id": "DImsk5t-wSg_"
      },
      "execution_count": null,
      "outputs": []
    },
    {
      "cell_type": "code",
      "source": [
        "# 58. Write a function that replaces occurrences of a substring in a NumPy array of strings with a new string\n",
        "import numpy as np\n",
        "\n",
        "def replace_substring(arr, old_substring, new_substring):\n",
        "\n",
        "    return np.char.replace(arr, old_substring, new_substring)\n",
        "\n",
        "# Example usage\n",
        "arr = np.array(['apple pie', 'banana pie', 'grape pie', 'pineapple pie'])\n",
        "old_substring = 'pie'\n",
        "new_substring = 'tart'\n",
        "\n",
        "# Replacing 'pie' with 'tart'\n",
        "new_arr = replace_substring(arr, old_substring, new_substring)\n",
        "print(new_arr)\n"
      ],
      "metadata": {
        "id": "FxxPtVJLwUYA"
      },
      "execution_count": null,
      "outputs": []
    },
    {
      "cell_type": "code",
      "source": [
        "# 59. Write a function that concatenates strings in a NumPy array element-wise\n",
        "arr1 = np.array(['Hello', 'World'])\n",
        "arr2 = np.array(['Open', 'AI'])\n",
        "concatenated_arr = np.concatenate((arr1, arr2))\n",
        "print(\"array 1 is :\")\n",
        "print(arr1)\n",
        "print(\"array 2 is :\")\n",
        "print(arr2)\n",
        "print(\"array after conctinate is :\")\n",
        "print(concatenated_arr)"
      ],
      "metadata": {
        "id": "54r_l--8wWg7"
      },
      "execution_count": null,
      "outputs": []
    },
    {
      "cell_type": "code",
      "source": [
        "# 60. Write a function that finds the length of the longest string in a NumPy array.\n",
        "\n",
        "arr = np.array(['apple', 'banana', 'grape', 'pineapple'])\n",
        "def leng_cal(arr):\n",
        "    a=0\n",
        "    for i in arr:\n",
        "        a=max(a,len(i))\n",
        "    return a\n",
        "leng=leng_cal(arr)\n",
        "print(f\"length of longest string is :\",leng)\n",
        "\n",
        "\n"
      ],
      "metadata": {
        "id": "9PaC4Nq0wYJQ"
      },
      "execution_count": null,
      "outputs": []
    },
    {
      "cell_type": "code",
      "source": [
        "# 61. Create a dataset of 100 random integers between 1 and 1000. Compute the mean, median, variance, and\n",
        "# standard deviation of the dataset using NumPy's functions.\n",
        "import numpy as np\n",
        "\n",
        "# Generate the dataset\n",
        "data = np.random.randint(1, 1001, size=100)\n",
        "\n",
        "# Compute mean, median, variance, and standard deviation\n",
        "mean = np.mean(data)\n",
        "median = np.median(data)\n",
        "variance = np.var(data)\n",
        "std_deviation = np.std(data)\n",
        "\n",
        "print(f\"Mean: {mean}\")\n",
        "print(f\"Median: {median}\")\n",
        "print(f\"Variance: {variance}\")\n",
        "print(f\"Standard Deviation: {std_deviation}\")\n"
      ],
      "metadata": {
        "id": "t9VH0KNNwaH1"
      },
      "execution_count": null,
      "outputs": []
    },
    {
      "cell_type": "code",
      "source": [
        "# 62. Find Percentiles\n",
        "# Generate an array of 50 random numbers between 1 and 100, and find the 25th and 75th percentiles.\n",
        "import numpy as np\n",
        "\n",
        "# Generate the array\n",
        "data = np.random.randint(1, 101, size=50)\n",
        "\n",
        "# Find the 25th and 75th percentiles\n",
        "percentile_25 = np.percentile(data, 25)\n",
        "percentile_75 = np.percentile(data, 75)\n",
        "\n",
        "print(f\"25th Percentile: {percentile_25}\")\n",
        "print(f\"75th Percentile: {percentile_75}\")\n"
      ],
      "metadata": {
        "id": "u19PJ1KDwbHm"
      },
      "execution_count": null,
      "outputs": []
    },
    {
      "cell_type": "code",
      "source": [
        "# 64. Perform Matrix Multiplication\n",
        "# Create two matrices and perform matrix multiplication using NumPy's dot function.\n",
        "\n",
        "# python\n",
        "import numpy as np\n",
        "\n",
        "# Create two matrices\n",
        "matrix1 = np.random.randint(1, 10, (3, 3))\n",
        "matrix2 = np.random.randint(1, 10, (3, 3))\n",
        "\n",
        "# Perform matrix multiplication\n",
        "product = np.dot(matrix1, matrix2)\n",
        "\n",
        "print(\"Matrix 1:\")\n",
        "print(matrix1)\n",
        "print(\"Matrix 2:\")\n",
        "print(matrix2)\n",
        "print(\"Product of Matrix 1 and Matrix 2:\")\n",
        "print(product)\n"
      ],
      "metadata": {
        "id": "4Hw_we-3we0V"
      },
      "execution_count": null,
      "outputs": []
    },
    {
      "cell_type": "code",
      "source": [
        "# 65. Calculate Percentiles and Quartiles\n",
        "# Create an array of 50 integers between 10 and 1000 and calculate the 10th, 50th (median), and 90th percentiles, along with the first and third quartiles.\n",
        "import numpy as np\n",
        "\n",
        "# Create the array\n",
        "data = np.random.randint(10, 1001, size=50)\n",
        "\n",
        "# Calculate percentiles and quartiles\n",
        "percentile_10 = np.percentile(data, 10)\n",
        "percentile_50 = np.percentile(data, 50)\n",
        "percentile_90 = np.percentile(data, 90)\n",
        "first_quartile = np.percentile(data, 25)\n",
        "third_quartile = np.percentile(data, 75)\n",
        "\n",
        "print(f\"10th Percentile: {percentile_10}\")\n",
        "print(f\"50th Percentile (Median): {percentile_50}\")\n",
        "print(f\"90th Percentile: {percentile_90}\")\n",
        "print(f\"First Quartile (25th Percentile): {first_quartile}\")\n",
        "print(f\"Third Quartile (75th Percentile): {third_quartile}\")\n"
      ],
      "metadata": {
        "id": "C3UOba4awgdz"
      },
      "execution_count": null,
      "outputs": []
    },
    {
      "cell_type": "code",
      "source": [
        "# 66. Find Index of a Specific Element\n",
        "# Create a NumPy array of integers and find the index of a specific element.\n",
        "import numpy as np\n",
        "\n",
        "# Create the array\n",
        "data = np.array([10, 20, 30, 40, 50, 60, 70, 80, 90, 100])\n",
        "\n",
        "# Find the index of a specific element\n",
        "element = 50\n",
        "index = np.where(data == element)[0]\n",
        "\n",
        "print(f\"Index of element {element}: {index}\")\n"
      ],
      "metadata": {
        "id": "zCVKw54kwiBu"
      },
      "execution_count": null,
      "outputs": []
    },
    {
      "cell_type": "code",
      "source": [
        "# 67. Sort a Random NumPy Array\n",
        "# Generate a random NumPy array and sort it in ascending order\n",
        "import numpy as np\n",
        "\n",
        "# Generate the random array\n",
        "data = np.random.randint(1, 1001, size=50)\n",
        "\n",
        "# Sort the array\n",
        "sorted_data = np.sort(data)\n",
        "\n",
        "print(\"Original Array:\")\n",
        "print(data)\n",
        "print(\"Sorted Array:\")\n",
        "print(sorted_data)\n"
      ],
      "metadata": {
        "id": "ShNIrLdWwjcS"
      },
      "execution_count": null,
      "outputs": []
    },
    {
      "cell_type": "code",
      "source": [
        "# 68. Filter elements >20  in the given NumPy array.\n",
        "import numpy as np\n",
        "arr = np.array([12, 25, 6, 42, 8, 30])\n",
        "print(f\"sample array :\",end=\" \")\n",
        "print(arr)\n",
        "filter_arr=arr[arr>20]\n",
        "print(f\"filter array element>20 is: \",end=\" \")\n",
        "print(filter_arr)"
      ],
      "metadata": {
        "id": "d4hNiBZUwlI2"
      },
      "execution_count": null,
      "outputs": []
    },
    {
      "cell_type": "code",
      "source": [
        "# 69. Filter elements which are divisible by 3 from a given NumPy array.\n",
        "arr = np.array([12, 25, 6, 42, 8, 30])\n",
        "print(f\"sample array :\",end=\" \")\n",
        "print(arr)\n",
        "filter_arr=arr[arr%3==0]\n",
        "print(f\"filter array element>20 is: \",end=\" \")\n",
        "print(filter_arr)"
      ],
      "metadata": {
        "id": "78nT4V2vw1eo"
      },
      "execution_count": null,
      "outputs": []
    },
    {
      "cell_type": "code",
      "source": [
        "# 71. For the given NumPy array, check its byte order using the `dtype` attribute byteorder\n",
        "import numpy as np\n",
        "arr = np.array([1, 2, 3])\n",
        "order=arr.dtype.byteorder\n",
        "print(f\"sample array :\",end=\" \")\n",
        "print(arr)\n",
        "print(f\"byte order is : ' \",order,\"'\")"
      ],
      "metadata": {
        "id": "miCHT_iNw3Sm"
      },
      "execution_count": null,
      "outputs": []
    },
    {
      "cell_type": "code",
      "source": [
        "# 72. For the given NumPy array, check its byte order using the `dtype` attribute byteorder\n",
        "imprt numpy as np\n",
        "arr = np.array([1, 2, 3], dtype=np.int32)\n",
        "\n",
        "print(f\"sample array :\",end=\" \")\n",
        "print(arr)\n",
        "arr.byteswap(inplace=True)\n",
        "print(f\"array after byte swaping is :\",arr)"
      ],
      "metadata": {
        "id": "jVnGp5hzw5Hb"
      },
      "execution_count": null,
      "outputs": []
    },
    {
      "cell_type": "code",
      "source": [
        "# 73. For the given NumPy array, swap its byte order without modifying the original array using\n",
        "# `newbyteorder()`.\n",
        "import numpy as np\n",
        "arr = np.array([1, 2, 3], dtype=np.int32)\n",
        "\n",
        "print(f\"sample array :\",end=\" \")\n",
        "print(arr)\n",
        "print(f\"after newbyte order\")\n",
        "arr.newbyteorder()"
      ],
      "metadata": {
        "id": "o45pFia5w7UN"
      },
      "execution_count": null,
      "outputs": []
    },
    {
      "cell_type": "code",
      "source": [
        "# 74 For the given NumPy array and swap its byte order conditionally based on system endianness using\n",
        "# `newbyteorder()`.\n",
        "import numpy as np\n",
        "\n",
        "# Create a NumPy array\n",
        "arr = np.array([1, 2, 3], dtype=np.int32)\n",
        "\n",
        "# Check the system's endianness\n",
        "system_endianness = '<' if np.little_endian else '>'\n",
        "\n",
        "# Swap the byte order conditionally\n",
        "if arr.dtype.byteorder == '=':  # Native byte order\n",
        "    # Check if swapping is needed based on the system endianness\n",
        "    if system_endianness == '<':  # Little-endian system\n",
        "        arr_swapped = arr.newbyteorder('>')\n",
        "    else:  # Big-endian system\n",
        "        arr_swapped = arr.newbyteorder('<')\n",
        "else:\n",
        "    # Swap the byte order to the opposite\n",
        "    arr_swapped = arr.newbyteorder()\n",
        "\n",
        "# Print the original and swapped arrays\n",
        "print(\"Original array:\", arr)\n",
        "print(\"Swapped array:\", arr_swapped)\n"
      ],
      "metadata": {
        "id": "oZm8NGSNw9hR"
      },
      "execution_count": null,
      "outputs": []
    },
    {
      "cell_type": "code",
      "source": [
        "# 75. For the given NumPy array, check if byte swapping is necessary for the current system using `dtype`\n",
        "# attribute `byteorder`.\n",
        "import numpy as np\n",
        "\n",
        "# Create a NumPy array\n",
        "arr = np.array([1, 2, 3], dtype=np.int32)\n",
        "\n",
        "# Check the system's endianness\n",
        "system_endianness = '<' if np.little_endian else '>'\n",
        "\n",
        "# Determine the array's byte order\n",
        "array_byteorder = arr.dtype.byteorder\n",
        "\n",
        "# Check if byte swapping is necessary\n",
        "if array_byteorder == '=':\n",
        "    # Native byte order (same as system's endianness), no need to swap\n",
        "    need_swap = False\n",
        "elif array_byteorder == system_endianness:\n",
        "    # Same byte order as the system, no need to swap\n",
        "    need_swap = False\n",
        "else:\n",
        "    # Different byte order, swapping is necessary\n",
        "    need_swap = True\n",
        "\n",
        "# Output the result\n",
        "if need_swap:\n",
        "    print(\"Byte swapping is necessary.\")\n",
        "else:\n",
        "    print(\"Byte swapping is not necessary.\")\n"
      ],
      "metadata": {
        "id": "L8K2yh5Iw_OZ"
      },
      "execution_count": null,
      "outputs": []
    },
    {
      "cell_type": "code",
      "source": [
        "# 76. Create a NumPy array `arr1` with values from 1 to 10. Create a copy of `arr1` named `copy_arr` and modify\n",
        "# an element in `copy_arr`. Check if modifying `copy_arr` affects `arr1`.\n",
        "import numpy as np\n",
        "import random\n",
        "ar1=np.random.randint(1,10,(3,3))\n",
        "copy_arr=ar1.copy()\n",
        "copy_arr[0]=22\n",
        "print(f\"array copy_arr after mult 2 array :\")\n",
        "print(copy_arr)\n",
        "print(f\"original array :\")\n",
        "print(ar1)"
      ],
      "metadata": {
        "id": "qQyplSjsxHDf"
      },
      "execution_count": null,
      "outputs": []
    },
    {
      "cell_type": "code",
      "source": [
        "# 67. Create a 2D NumPy array `matrix` of shape (3, 3) with random integers. Extract a slice `view_slice` from\n",
        "# the matrix. Modify an element in `view_slice` and observe if it changes the original `matrix\n",
        "import numpy as np\n",
        "import random\n",
        "matrix=np.random.randint(1,12,(3,3))\n",
        "view_slice=matrix[1:3]\n",
        "view_slice=view_slice*5\n",
        "\n",
        "print(f\"array b after mult 5 array :\")\n",
        "print(view_slice)\n",
        "print(f\"original array :\")\n",
        "print(matrix)"
      ],
      "metadata": {
        "id": "uuUl2o6cxJAk"
      },
      "execution_count": null,
      "outputs": []
    },
    {
      "cell_type": "code",
      "source": [
        "# 78. Create a NumPy array `array_a` of shape (4, 3) with sequential integers from 1 to 12. Extract a slice\n",
        "# `view_b` from `array_a` and broadcast the addition of 5 to view_b. Check if it alters the original `array_a`.\n",
        "import numpy as np\n",
        "import random\n",
        "y =np.arange(1,13)\n",
        "array_a=y.reshape(4,3)\n",
        "view_b=array_a[2:4]\n",
        "view_b=view_b+5\n",
        "print(f\"original array \")\n",
        "print(array_a)\n",
        "print(f\"array b after add 5 array :\")\n",
        "print(view_b)"
      ],
      "metadata": {
        "id": "JUT8huw_xKZr"
      },
      "execution_count": null,
      "outputs": []
    },
    {
      "cell_type": "code",
      "source": [
        "# 79. Create a NumPy array `orig_array` of shape (2, 4) with values from 1 to 8. Create a reshaped view\n",
        "# `reshaped_view` of shape (4, 2) from orig_array. Modify an element in `reshaped_view` and check if it\n",
        "# reflects changes in the original `orig_array`.\n",
        "import numpy as np\n",
        "import random\n",
        "orig_array=np.random.randint(1,8,(2,4))\n",
        "eshaped_view=orig_array.reshape(4,2)"
      ],
      "metadata": {
        "id": "rTTto9-BxN54"
      },
      "execution_count": null,
      "outputs": []
    },
    {
      "cell_type": "code",
      "source": [
        "# 80. Create a NumPy array `data` of shape (3, 4) with random integers. Extract a copy `data_copy` of\n",
        "# elements greater than 5. Modify an element in `data_copy` and verify if it affects the original `data`.\n",
        "import numpy as np\n",
        "import random\n",
        "data=np.random.randint(1,8,(3,4))\n",
        "data_copy=np.extract(data>5,data)\n",
        "data_copy*2\n",
        "#yes is affect original copy"
      ],
      "metadata": {
        "id": "kJguDkRVxSN8"
      },
      "execution_count": null,
      "outputs": []
    },
    {
      "cell_type": "code",
      "source": [
        "# 81. Create two matrices A and B of identical shape containing integers and perform addition and subtraction\n",
        "# operations between them\n",
        "import numpy as np\n",
        "import random\n",
        "A=np.random.randint(1,8,(3,4))\n",
        "B=np.random.randint(1,8,(3,4))\n",
        "add=A+B\n",
        "sub=A-B\n",
        "print(f\"Input matrix is A: \")\n",
        "print(A)\n",
        "print()\n",
        "print(f\"Input matrix is B: \")\n",
        "print(B)\n",
        "print()\n",
        "print(f\"Addition matrix is :\")\n",
        "print(add)\n",
        "print()\n",
        "print(f\"Substraction matrix is :\")\n",
        "print(sub)"
      ],
      "metadata": {
        "id": "fIJg_BMAxUvF"
      },
      "execution_count": null,
      "outputs": []
    },
    {
      "cell_type": "code",
      "source": [
        "# 82. Generate two matrices `C` (3x2) and `D` (2x4) and perform matrix multiplication\n",
        "import numpy as np\n",
        "C=np.random.randint(1,5,(3,2))\n",
        "D=np.random.randint(1,5,(2,4))\n",
        "mult=C@D\n",
        "print(f\"Input matrix is C: \")\n",
        "print(C)\n",
        "print()\n",
        "print(f\"Input matrix is D: \")\n",
        "print(D)\n",
        "print()\n",
        "print(f\"Multiply matrix is :\")\n",
        "print(mult)"
      ],
      "metadata": {
        "id": "p5OGzmyAxZc7"
      },
      "execution_count": null,
      "outputs": []
    },
    {
      "cell_type": "code",
      "source": [
        "# 83. Create a matrix `E` and find its transpose\n",
        "import numpy.matlib as nm\n",
        "import random\n",
        "E=nm.random.randint(1,5,(3,4))\n",
        "Trans=E.T\n",
        "print(f\"Input matrix is : \")\n",
        "print(E)\n",
        "print()\n",
        "print(f\"Trnaspose matrix is :\")\n",
        "print(Trans)"
      ],
      "metadata": {
        "id": "-ZF48HKhxm7M"
      },
      "execution_count": null,
      "outputs": []
    },
    {
      "cell_type": "code",
      "source": [
        "# 84. Generate a square matrix `F` and compute its determinant\n",
        "import numpy.matlib as nm\n",
        "import random\n",
        "F=nm.random.randint(1,5,(3,3))\n",
        "det=nm.linalg.det(F)\n",
        "print(f\"Input matrix is : \")\n",
        "print(F)\n",
        "print()\n",
        "print(f\"Determinant matrix is :\",det)\n"
      ],
      "metadata": {
        "id": "7F7PmampxqrD"
      },
      "execution_count": null,
      "outputs": []
    },
    {
      "cell_type": "code",
      "source": [
        "# 85. Create a square matrix `G` and find its inverse.\n",
        "import numpy.matlib as nm\n",
        "import random\n",
        "G=nm.random.randint(1,5,(3,3))\n",
        "inv=nm.linalg.inv(G)\n",
        "print(f\"Input matrix is : \")\n",
        "print(G)\n",
        "print()\n",
        "print(f\"Inverse matrix is :\")\n",
        "print(inv)"
      ],
      "metadata": {
        "id": "TCenSwP3xrp3"
      },
      "execution_count": null,
      "outputs": []
    }
  ]
}